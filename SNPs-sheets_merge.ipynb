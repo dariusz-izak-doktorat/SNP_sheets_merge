{
 "cells": [
  {
   "cell_type": "code",
   "execution_count": 1,
   "metadata": {
    "collapsed": true
   },
   "outputs": [],
   "source": [
    "import pandas as pd"
   ]
  },
  {
   "cell_type": "code",
   "execution_count": 2,
   "metadata": {
    "collapsed": true
   },
   "outputs": [],
   "source": [
    "import numpy as np"
   ]
  },
  {
   "cell_type": "code",
   "execution_count": 3,
   "metadata": {
    "collapsed": true
   },
   "outputs": [],
   "source": [
    "from glob import glob"
   ]
  },
  {
   "cell_type": "code",
   "execution_count": 4,
   "metadata": {
    "collapsed": true
   },
   "outputs": [],
   "source": [
    "import itertools"
   ]
  },
  {
   "cell_type": "markdown",
   "metadata": {},
   "source": [
    "#### some pandas opts"
   ]
  },
  {
   "cell_type": "code",
   "execution_count": 5,
   "metadata": {
    "collapsed": true
   },
   "outputs": [],
   "source": [
    "pd.options.display.max_columns = 100"
   ]
  },
  {
   "cell_type": "code",
   "execution_count": 6,
   "metadata": {
    "collapsed": true
   },
   "outputs": [],
   "source": [
    "pd.options.display.max_rows = 500"
   ]
  },
  {
   "cell_type": "markdown",
   "metadata": {},
   "source": [
    "#### where are the files?"
   ]
  },
  {
   "cell_type": "code",
   "execution_count": 7,
   "metadata": {
    "collapsed": false
   },
   "outputs": [
    {
     "name": "stdout",
     "output_type": "stream",
     "text": [
      "\u001b[0m\u001b[01;32m16 documents from consensus.geneious\u001b[0m*\r\n",
      "\u001b[01;32m16 documents from WT-day70 to WT-zero point.geneious\u001b[0m*\r\n",
      "\u001b[34;42mBY-day0\u001b[0m/\r\n",
      "\u001b[34;42mBY-nup133-day70\u001b[0m/\r\n",
      "\u001b[34;42mBY-WT-day70\u001b[0m/\r\n",
      "\u001b[34;42mconsensus\u001b[0m/\r\n",
      "\u001b[34;42mmapped_contigs\u001b[0m/\r\n",
      "\u001b[34;42mmapped_reads\u001b[0m/\r\n",
      "\u001b[01;32mnup mapped to wt cons.geneious\u001b[0m*\r\n",
      "\u001b[34;42mW303-cog7-day42\u001b[0m/\r\n",
      "\u001b[34;42mW303-nup133-day42\u001b[0m/\r\n",
      "\u001b[34;42mWT-day70\u001b[0m/\r\n",
      "\u001b[01;32mWT-day70.xlsx\u001b[0m*\r\n"
     ]
    }
   ],
   "source": [
    "%ls /home/dizak/Pulpit/BIONAS/G148/SNPs_calling/"
   ]
  },
  {
   "cell_type": "code",
   "execution_count": 8,
   "metadata": {
    "collapsed": false
   },
   "outputs": [],
   "source": [
    "W303_cog7_day42_C1_files = glob(\"/home/dizak/Pulpit/BIONAS/G148/SNPs_calling/W303-cog7-day42/C1/*csv\")"
   ]
  },
  {
   "cell_type": "code",
   "execution_count": 9,
   "metadata": {
    "collapsed": true
   },
   "outputs": [],
   "source": [
    "W303_cog7_day42_C2_files = glob(\"/home/dizak/Pulpit/BIONAS/G148/SNPs_calling/W303-cog7-day42/C2/*csv\")"
   ]
  },
  {
   "cell_type": "code",
   "execution_count": 10,
   "metadata": {
    "collapsed": true
   },
   "outputs": [],
   "source": [
    "W303_cog7_day42_C3_files = glob(\"/home/dizak/Pulpit/BIONAS/G148/SNPs_calling/W303-cog7-day42/C3/*csv\")"
   ]
  },
  {
   "cell_type": "markdown",
   "metadata": {},
   "source": [
    "#### get non-redundant list of genes in the inputfiles"
   ]
  },
  {
   "cell_type": "code",
   "execution_count": 11,
   "metadata": {
    "collapsed": false,
    "scrolled": true
   },
   "outputs": [],
   "source": [
    "def find_flat_value(inputfiles_list,\n",
    "                    col_name = \"CDS\"):\n",
    "    \"\"\"\n",
    "    Get flat list of desired values from list of CSV files.\n",
    "    \n",
    "    Parameters\n",
    "    -------\n",
    "    inputfiles_list: list of str\n",
    "        List of input CSV files.\n",
    "    col_name: str\n",
    "        Desired column name in the input CSV file.\n",
    "    \n",
    "    Returns\n",
    "    -------\n",
    "    list of desired values.\n",
    "    \"\"\"\n",
    "    values_list = []\n",
    "    for i in inputfiles_list:\n",
    "        df = pd.read_csv(i)\n",
    "        if len(df) == 0:\n",
    "            pass\n",
    "        elif col_name not in df.columns:\n",
    "            pass\n",
    "        else:\n",
    "            values_list.append(df[col_name].dropna().drop_duplicates().tolist())\n",
    "    return list(itertools.chain.from_iterable(values_list))"
   ]
  },
  {
   "cell_type": "markdown",
   "metadata": {},
   "source": [
    "#### get values from input files by key"
   ]
  },
  {
   "cell_type": "code",
   "execution_count": 12,
   "metadata": {
    "collapsed": false
   },
   "outputs": [],
   "source": [
    "def find_by_key(inputfiles_list,\n",
    "                key):\n",
    "    \"\"\"\n",
    "    Get pandas.DataFrame selected by a given key from list of CSV files.\n",
    "    \n",
    "    Parameters\n",
    "    -------\n",
    "    inputfiles_list: list of str\n",
    "        List of input CSV files.\n",
    "    key: str, int, float, bool\n",
    "        Key used as query against rows in the CSV files.\n",
    "    value_col: str\n",
    "        Column name which holds values to be returned.\n",
    "    \n",
    "    Returns\n",
    "    -------\n",
    "    dict of lists of desired values if pandas.Dataframe not empty\n",
    "    None if pandas.DataFrame empty\n",
    "    \"\"\"\n",
    "    values_list = []\n",
    "    for i in inputfiles_list:\n",
    "        filename = \"\".join(i.split(\"/\")[-1].split(\".\")[:-1])\n",
    "        df = pd.read_csv(i)\n",
    "        if len(df) == 0:\n",
    "            pass\n",
    "        else:\n",
    "            if isinstance(key, str) == True:\n",
    "                df_dtype_sel = df.select_dtypes(include=[\"object\"])\n",
    "            elif isinstance(key, int) == True:\n",
    "                df_dtype_sel = df.select_dtypes(include=[\"int\"])\n",
    "            elif isinstance(key, float) == True:\n",
    "                df_dtype_sel = df.select_dtypes(include=[\"float\"])\n",
    "            elif isinstance(key, bool) == True:\n",
    "                df_dtype_sel = df.select_dtypes(include=[\"bool\"])\n",
    "            else:\n",
    "                raise ValueError(\"key must str, int, float or bool dtype\")\n",
    "            for col in df_dtype_sel.columns:\n",
    "                df_sel = df[df_dtype_sel[col] == key]\n",
    "                if len(df_sel) > 0:\n",
    "                    return {\"dataframe\": df_sel,\n",
    "                            \"filename\": filename}"
   ]
  },
  {
   "cell_type": "markdown",
   "metadata": {},
   "source": [
    "#### get whole set of pandas.DataFrames selections in one dict"
   ]
  },
  {
   "cell_type": "code",
   "execution_count": 13,
   "metadata": {
    "collapsed": true
   },
   "outputs": [],
   "source": [
    "def get_dfs_set(key_list,\n",
    "                files_list,\n",
    "                vals=[\"Minimum\",\n",
    "                      \"Maximum\",\n",
    "                      \"Change\"],\n",
    "                df_key=\"dataframe\",\n",
    "                index_by_key=True):\n",
    "    \"\"\"\n",
    "    Get desired values in pandas.Dataframe gathered in dict by\n",
    "    the list of keys.\n",
    "    \"\"\"\n",
    "    out_dict = {}\n",
    "    for i in key_list:\n",
    "        key_vals = find_by_key(files_list,\n",
    "                              key=i)[df_key]\n",
    "        out_dict[i] = key_vals[vals]\n",
    "    if index_by_key is True:\n",
    "        for i in out_dict:\n",
    "            ix_tpls = \n",
    "            out_dict[i].index = [i] * len(out_dict[i])\n",
    "    else:\n",
    "        pass\n",
    "    return out_dict"
   ]
  },
  {
   "cell_type": "markdown",
   "metadata": {},
   "source": [
    "#### merge any given number of dfs"
   ]
  },
  {
   "cell_type": "code",
   "execution_count": 68,
   "metadata": {
    "collapsed": false
   },
   "outputs": [],
   "source": [
    "def merge_dfs(dfs,\n",
    "              sort_cols=[\"Minimum\",\n",
    "                         \"Maximum\"],\n",
    "              reconstr_index=True):\n",
    "    \"\"\"\n",
    "    Merge any number of pandas.DataFrame into one.\n",
    "    Indexes must be identical in all the pandas.DataFrames.\n",
    "    \n",
    "    Parameters\n",
    "    -------\n",
    "    dfs: list\n",
    "        list of pandas.DataFrames to merge.\n",
    "    sort_cols: list, None\n",
    "        list of col names to sort the final\n",
    "        pandas.DataFrame by. No sorting if None.\n",
    "    \"\"\"\n",
    "    for x in [set(i.index) for i in dfs]:\n",
    "        assert len(x) == 1, \"Indices are not homogenic.\"\n",
    "    new_index = list(x)\n",
    "    df = reduce(lambda df1, df2: pd.merge(left=df1,\n",
    "                                          right=df2,\n",
    "                                          how=\"outer\"),\n",
    "                dfs)\n",
    "    if sort_cols is not None:\n",
    "        df.sort(columns=sort_cols)\n",
    "    if reconstr_index is True:\n",
    "        df.index = len(df) * new_index\n",
    "    return df"
   ]
  },
  {
   "cell_type": "markdown",
   "metadata": {},
   "source": [
    "#### let's find out which CDS are present in all the files one by one"
   ]
  },
  {
   "cell_type": "code",
   "execution_count": 15,
   "metadata": {
    "collapsed": true
   },
   "outputs": [],
   "source": [
    "W303_cog7_day42_C1_CDSs = find_flat_value(W303_cog7_day42_C1_files)\n",
    "W303_cog7_day42_C2_CDSs = find_flat_value(W303_cog7_day42_C2_files)\n",
    "W303_cog7_day42_C3_CDSs = find_flat_value(W303_cog7_day42_C3_files)"
   ]
  },
  {
   "cell_type": "markdown",
   "metadata": {},
   "source": [
    "#### let's gather some info about each of the CDS from each sample"
   ]
  },
  {
   "cell_type": "code",
   "execution_count": 16,
   "metadata": {
    "collapsed": false
   },
   "outputs": [],
   "source": [
    "W303_cog7_day42_C1_dfs = get_dfs_set(W303_cog7_day42_C1_CDSs, W303_cog7_day42_C1_files)\n",
    "W303_cog7_day42_C2_dfs = get_dfs_set(W303_cog7_day42_C2_CDSs, W303_cog7_day42_C2_files)\n",
    "W303_cog7_day42_C3_dfs = get_dfs_set(W303_cog7_day42_C3_CDSs, W303_cog7_day42_C3_files)"
   ]
  },
  {
   "cell_type": "markdown",
   "metadata": {},
   "source": [
    "#### which CDSs are common for all 3?"
   ]
  },
  {
   "cell_type": "code",
   "execution_count": 39,
   "metadata": {
    "collapsed": false
   },
   "outputs": [],
   "source": [
    "W303_cog7_day42_comm_CDS = reduce(lambda x, y: [i for i in x if i in y],\n",
    "                                  [W303_cog7_day42_C1_CDSs,\n",
    "                                   W303_cog7_day42_C2_CDSs,\n",
    "                                   W303_cog7_day42_C3_CDSs])"
   ]
  },
  {
   "cell_type": "code",
   "execution_count": 69,
   "metadata": {
    "collapsed": false
   },
   "outputs": [
    {
     "name": "stderr",
     "output_type": "stream",
     "text": [
      "/home/dizak/anaconda2/lib/python2.7/site-packages/ipykernel/__main__.py:25: FutureWarning: sort(columns=....) is deprecated, use sort_values(by=.....)\n"
     ]
    }
   ],
   "source": [
    "out_dict = {}\n",
    "for i in W303_cog7_day42_comm_CDS:\n",
    "    out_dict[i] = merge_dfs([W303_cog7_day42_C1_dfs[i],\n",
    "                             W303_cog7_day42_C2_dfs[i],\n",
    "                             W303_cog7_day42_C3_dfs[i]])"
   ]
  },
  {
   "cell_type": "code",
   "execution_count": 217,
   "metadata": {
    "collapsed": true
   },
   "outputs": [],
   "source": [
    "df = W303_cog7_day42_C1_dfs[\"FLO1 CDS\"]"
   ]
  },
  {
   "cell_type": "code",
   "execution_count": 218,
   "metadata": {
    "collapsed": true
   },
   "outputs": [],
   "source": [
    "df.index = range(len(df))"
   ]
  },
  {
   "cell_type": "code",
   "execution_count": 219,
   "metadata": {
    "collapsed": false
   },
   "outputs": [],
   "source": [
    "sample = len(W303_cog7_day42_C1_dfs[\"FLO1 CDS\"]) * [\"C1\"]"
   ]
  },
  {
   "cell_type": "code",
   "execution_count": 220,
   "metadata": {
    "collapsed": true
   },
   "outputs": [],
   "source": [
    "gene = len(W303_cog7_day42_C1_dfs[\"FLO1 CDS\"]) * [\"FLO1 CDS\"]"
   ]
  },
  {
   "cell_type": "code",
   "execution_count": 221,
   "metadata": {
    "collapsed": false
   },
   "outputs": [],
   "source": [
    "tpls = list(zip(*[sample, gene, range(len(df))]))"
   ]
  },
  {
   "cell_type": "code",
   "execution_count": 222,
   "metadata": {
    "collapsed": false
   },
   "outputs": [],
   "source": [
    "df.index = pd.MultiIndex.from_tuples(tpls, names=[\"sample\", \"gene\", \"number\"])"
   ]
  },
  {
   "cell_type": "code",
   "execution_count": 223,
   "metadata": {
    "collapsed": false
   },
   "outputs": [
    {
     "data": {
      "text/html": [
       "<div>\n",
       "<table border=\"1\" class=\"dataframe\">\n",
       "  <thead>\n",
       "    <tr style=\"text-align: right;\">\n",
       "      <th></th>\n",
       "      <th></th>\n",
       "      <th></th>\n",
       "      <th>Minimum</th>\n",
       "      <th>Maximum</th>\n",
       "      <th>Change</th>\n",
       "    </tr>\n",
       "    <tr>\n",
       "      <th>sample</th>\n",
       "      <th>gene</th>\n",
       "      <th>number</th>\n",
       "      <th></th>\n",
       "      <th></th>\n",
       "      <th></th>\n",
       "    </tr>\n",
       "  </thead>\n",
       "  <tbody>\n",
       "    <tr>\n",
       "      <th rowspan=\"24\" valign=\"top\">C1</th>\n",
       "      <th rowspan=\"24\" valign=\"top\">FLO1 CDS</th>\n",
       "      <th>0</th>\n",
       "      <td>204538</td>\n",
       "      <td>204538</td>\n",
       "      <td>A -&gt; G</td>\n",
       "    </tr>\n",
       "    <tr>\n",
       "      <th>1</th>\n",
       "      <td>204529</td>\n",
       "      <td>204529</td>\n",
       "      <td>G -&gt; A</td>\n",
       "    </tr>\n",
       "    <tr>\n",
       "      <th>2</th>\n",
       "      <td>204459</td>\n",
       "      <td>204460</td>\n",
       "      <td>WA -&gt; TT</td>\n",
       "    </tr>\n",
       "    <tr>\n",
       "      <th>3</th>\n",
       "      <td>204456</td>\n",
       "      <td>204456</td>\n",
       "      <td>A -&gt; T</td>\n",
       "    </tr>\n",
       "    <tr>\n",
       "      <th>4</th>\n",
       "      <td>204453</td>\n",
       "      <td>204454</td>\n",
       "      <td>CG -&gt; TT</td>\n",
       "    </tr>\n",
       "    <tr>\n",
       "      <th>5</th>\n",
       "      <td>204449</td>\n",
       "      <td>204451</td>\n",
       "      <td>CAC -&gt; GTT</td>\n",
       "    </tr>\n",
       "    <tr>\n",
       "      <th>6</th>\n",
       "      <td>204443</td>\n",
       "      <td>204448</td>\n",
       "      <td>TSSCCA -&gt; GAAACC</td>\n",
       "    </tr>\n",
       "    <tr>\n",
       "      <th>7</th>\n",
       "      <td>204435</td>\n",
       "      <td>204435</td>\n",
       "      <td>G -&gt; C</td>\n",
       "    </tr>\n",
       "    <tr>\n",
       "      <th>8</th>\n",
       "      <td>204431</td>\n",
       "      <td>204433</td>\n",
       "      <td>ACM -&gt; CAA</td>\n",
       "    </tr>\n",
       "    <tr>\n",
       "      <th>9</th>\n",
       "      <td>204428</td>\n",
       "      <td>204430</td>\n",
       "      <td>BHB -&gt; CGGT</td>\n",
       "    </tr>\n",
       "    <tr>\n",
       "      <th>10</th>\n",
       "      <td>204424</td>\n",
       "      <td>204426</td>\n",
       "      <td>RMS -&gt; CCA</td>\n",
       "    </tr>\n",
       "    <tr>\n",
       "      <th>11</th>\n",
       "      <td>204419</td>\n",
       "      <td>204419</td>\n",
       "      <td>C -&gt; A</td>\n",
       "    </tr>\n",
       "    <tr>\n",
       "      <th>12</th>\n",
       "      <td>204410</td>\n",
       "      <td>204411</td>\n",
       "      <td>CA -&gt; AT</td>\n",
       "    </tr>\n",
       "    <tr>\n",
       "      <th>13</th>\n",
       "      <td>204407</td>\n",
       "      <td>204408</td>\n",
       "      <td>CH -&gt; AT</td>\n",
       "    </tr>\n",
       "    <tr>\n",
       "      <th>14</th>\n",
       "      <td>204404</td>\n",
       "      <td>204404</td>\n",
       "      <td>C -&gt; A</td>\n",
       "    </tr>\n",
       "    <tr>\n",
       "      <th>15</th>\n",
       "      <td>204402</td>\n",
       "      <td>204402</td>\n",
       "      <td>K -&gt; G</td>\n",
       "    </tr>\n",
       "    <tr>\n",
       "      <th>16</th>\n",
       "      <td>204398</td>\n",
       "      <td>204400</td>\n",
       "      <td>CAY -&gt; GCT</td>\n",
       "    </tr>\n",
       "    <tr>\n",
       "      <th>17</th>\n",
       "      <td>204396</td>\n",
       "      <td>204396</td>\n",
       "      <td>A -&gt; C</td>\n",
       "    </tr>\n",
       "    <tr>\n",
       "      <th>18</th>\n",
       "      <td>204394</td>\n",
       "      <td>204394</td>\n",
       "      <td>C -&gt; A</td>\n",
       "    </tr>\n",
       "    <tr>\n",
       "      <th>19</th>\n",
       "      <td>204388</td>\n",
       "      <td>204388</td>\n",
       "      <td>C -&gt; A</td>\n",
       "    </tr>\n",
       "    <tr>\n",
       "      <th>20</th>\n",
       "      <td>203986</td>\n",
       "      <td>203986</td>\n",
       "      <td>A -&gt; T</td>\n",
       "    </tr>\n",
       "    <tr>\n",
       "      <th>21</th>\n",
       "      <td>203977</td>\n",
       "      <td>203977</td>\n",
       "      <td>C -&gt; T</td>\n",
       "    </tr>\n",
       "    <tr>\n",
       "      <th>22</th>\n",
       "      <td>203679</td>\n",
       "      <td>203680</td>\n",
       "      <td>TG -&gt; AA</td>\n",
       "    </tr>\n",
       "    <tr>\n",
       "      <th>23</th>\n",
       "      <td>203677</td>\n",
       "      <td>203677</td>\n",
       "      <td>C -&gt; T</td>\n",
       "    </tr>\n",
       "  </tbody>\n",
       "</table>\n",
       "</div>"
      ],
      "text/plain": [
       "                        Minimum  Maximum            Change\n",
       "sample gene     number                                    \n",
       "C1     FLO1 CDS 0        204538   204538            A -> G\n",
       "                1        204529   204529            G -> A\n",
       "                2        204459   204460          WA -> TT\n",
       "                3        204456   204456            A -> T\n",
       "                4        204453   204454          CG -> TT\n",
       "                5        204449   204451        CAC -> GTT\n",
       "                6        204443   204448  TSSCCA -> GAAACC\n",
       "                7        204435   204435            G -> C\n",
       "                8        204431   204433        ACM -> CAA\n",
       "                9        204428   204430       BHB -> CGGT\n",
       "                10       204424   204426        RMS -> CCA\n",
       "                11       204419   204419            C -> A\n",
       "                12       204410   204411          CA -> AT\n",
       "                13       204407   204408          CH -> AT\n",
       "                14       204404   204404            C -> A\n",
       "                15       204402   204402            K -> G\n",
       "                16       204398   204400        CAY -> GCT\n",
       "                17       204396   204396            A -> C\n",
       "                18       204394   204394            C -> A\n",
       "                19       204388   204388            C -> A\n",
       "                20       203986   203986            A -> T\n",
       "                21       203977   203977            C -> T\n",
       "                22       203679   203680          TG -> AA\n",
       "                23       203677   203677            C -> T"
      ]
     },
     "execution_count": 223,
     "metadata": {},
     "output_type": "execute_result"
    }
   ],
   "source": [
    "df"
   ]
  },
  {
   "cell_type": "code",
   "execution_count": 226,
   "metadata": {
    "collapsed": true
   },
   "outputs": [],
   "source": [
    "df2 = W303_cog7_day42_C2_dfs[\"FLO1 CDS\"]"
   ]
  },
  {
   "cell_type": "code",
   "execution_count": 228,
   "metadata": {
    "collapsed": false
   },
   "outputs": [],
   "source": [
    "df2.index = range(len(df2))"
   ]
  },
  {
   "cell_type": "code",
   "execution_count": 229,
   "metadata": {
    "collapsed": false
   },
   "outputs": [],
   "source": [
    "sample = len(W303_cog7_day42_C2_dfs[\"FLO1 CDS\"]) * [\"C2\"]"
   ]
  },
  {
   "cell_type": "code",
   "execution_count": 230,
   "metadata": {
    "collapsed": true
   },
   "outputs": [],
   "source": [
    "gene = len(W303_cog7_day42_C2_dfs[\"FLO1 CDS\"]) * [\"FLO1 CDS\"]"
   ]
  },
  {
   "cell_type": "code",
   "execution_count": 233,
   "metadata": {
    "collapsed": false
   },
   "outputs": [],
   "source": [
    "tpls = list(zip(*[sample, gene, range(len(df2))]))"
   ]
  },
  {
   "cell_type": "code",
   "execution_count": 234,
   "metadata": {
    "collapsed": false
   },
   "outputs": [],
   "source": [
    "df2.index = pd.MultiIndex.from_tuples(tpls, names=[\"sample\", \"gene\", \"number\"])"
   ]
  },
  {
   "cell_type": "code",
   "execution_count": 236,
   "metadata": {
    "collapsed": false
   },
   "outputs": [
    {
     "data": {
      "text/html": [
       "<div>\n",
       "<table border=\"1\" class=\"dataframe\">\n",
       "  <thead>\n",
       "    <tr style=\"text-align: right;\">\n",
       "      <th></th>\n",
       "      <th></th>\n",
       "      <th></th>\n",
       "      <th>Minimum</th>\n",
       "      <th>Maximum</th>\n",
       "      <th>Change</th>\n",
       "    </tr>\n",
       "    <tr>\n",
       "      <th>sample</th>\n",
       "      <th>gene</th>\n",
       "      <th>number</th>\n",
       "      <th></th>\n",
       "      <th></th>\n",
       "      <th></th>\n",
       "    </tr>\n",
       "  </thead>\n",
       "  <tbody>\n",
       "    <tr>\n",
       "      <th rowspan=\"26\" valign=\"top\">C2</th>\n",
       "      <th rowspan=\"26\" valign=\"top\">FLO1 CDS</th>\n",
       "      <th>0</th>\n",
       "      <td>204538</td>\n",
       "      <td>204538</td>\n",
       "      <td>A -&gt; G</td>\n",
       "    </tr>\n",
       "    <tr>\n",
       "      <th>1</th>\n",
       "      <td>204529</td>\n",
       "      <td>204529</td>\n",
       "      <td>G -&gt; A</td>\n",
       "    </tr>\n",
       "    <tr>\n",
       "      <th>2</th>\n",
       "      <td>204459</td>\n",
       "      <td>204460</td>\n",
       "      <td>WA -&gt; TT</td>\n",
       "    </tr>\n",
       "    <tr>\n",
       "      <th>3</th>\n",
       "      <td>204456</td>\n",
       "      <td>204456</td>\n",
       "      <td>A -&gt; T</td>\n",
       "    </tr>\n",
       "    <tr>\n",
       "      <th>4</th>\n",
       "      <td>204453</td>\n",
       "      <td>204454</td>\n",
       "      <td>CG -&gt; TT</td>\n",
       "    </tr>\n",
       "    <tr>\n",
       "      <th>5</th>\n",
       "      <td>204439</td>\n",
       "      <td>204441</td>\n",
       "      <td>GWG -&gt; ACT</td>\n",
       "    </tr>\n",
       "    <tr>\n",
       "      <th>6</th>\n",
       "      <td>204434</td>\n",
       "      <td>204436</td>\n",
       "      <td>CGA -&gt; AAC</td>\n",
       "    </tr>\n",
       "    <tr>\n",
       "      <th>7</th>\n",
       "      <td>204431</td>\n",
       "      <td>204433</td>\n",
       "      <td>ACM -&gt; GTC</td>\n",
       "    </tr>\n",
       "    <tr>\n",
       "      <th>8</th>\n",
       "      <td>204428</td>\n",
       "      <td>204430</td>\n",
       "      <td>BHB -&gt; ACG</td>\n",
       "    </tr>\n",
       "    <tr>\n",
       "      <th>9</th>\n",
       "      <td>204416</td>\n",
       "      <td>204418</td>\n",
       "      <td>MMY -&gt; TCA</td>\n",
       "    </tr>\n",
       "    <tr>\n",
       "      <th>10</th>\n",
       "      <td>204413</td>\n",
       "      <td>204414</td>\n",
       "      <td>AM -&gt; CC</td>\n",
       "    </tr>\n",
       "    <tr>\n",
       "      <th>11</th>\n",
       "      <td>204410</td>\n",
       "      <td>204412</td>\n",
       "      <td>CAY -&gt; ATA</td>\n",
       "    </tr>\n",
       "    <tr>\n",
       "      <th>12</th>\n",
       "      <td>204407</td>\n",
       "      <td>204408</td>\n",
       "      <td>CH -&gt; AT</td>\n",
       "    </tr>\n",
       "    <tr>\n",
       "      <th>13</th>\n",
       "      <td>204404</td>\n",
       "      <td>204404</td>\n",
       "      <td>C -&gt; A</td>\n",
       "    </tr>\n",
       "    <tr>\n",
       "      <th>14</th>\n",
       "      <td>204402</td>\n",
       "      <td>204402</td>\n",
       "      <td>K -&gt; G</td>\n",
       "    </tr>\n",
       "    <tr>\n",
       "      <th>15</th>\n",
       "      <td>204398</td>\n",
       "      <td>204400</td>\n",
       "      <td>CAY -&gt; GCT</td>\n",
       "    </tr>\n",
       "    <tr>\n",
       "      <th>16</th>\n",
       "      <td>204396</td>\n",
       "      <td>204396</td>\n",
       "      <td>A -&gt; C</td>\n",
       "    </tr>\n",
       "    <tr>\n",
       "      <th>17</th>\n",
       "      <td>204394</td>\n",
       "      <td>204394</td>\n",
       "      <td>C -&gt; A</td>\n",
       "    </tr>\n",
       "    <tr>\n",
       "      <th>18</th>\n",
       "      <td>204388</td>\n",
       "      <td>204388</td>\n",
       "      <td>C -&gt; A</td>\n",
       "    </tr>\n",
       "    <tr>\n",
       "      <th>19</th>\n",
       "      <td>203986</td>\n",
       "      <td>203986</td>\n",
       "      <td>A -&gt; T</td>\n",
       "    </tr>\n",
       "    <tr>\n",
       "      <th>20</th>\n",
       "      <td>203977</td>\n",
       "      <td>203977</td>\n",
       "      <td>C -&gt; T</td>\n",
       "    </tr>\n",
       "    <tr>\n",
       "      <th>21</th>\n",
       "      <td>203713</td>\n",
       "      <td>203713</td>\n",
       "      <td>A -&gt; T</td>\n",
       "    </tr>\n",
       "    <tr>\n",
       "      <th>22</th>\n",
       "      <td>203705</td>\n",
       "      <td>203705</td>\n",
       "      <td>G -&gt; A</td>\n",
       "    </tr>\n",
       "    <tr>\n",
       "      <th>23</th>\n",
       "      <td>203696</td>\n",
       "      <td>203698</td>\n",
       "      <td>ATC -&gt; GTT</td>\n",
       "    </tr>\n",
       "    <tr>\n",
       "      <th>24</th>\n",
       "      <td>203679</td>\n",
       "      <td>203680</td>\n",
       "      <td>TG -&gt; AA</td>\n",
       "    </tr>\n",
       "    <tr>\n",
       "      <th>25</th>\n",
       "      <td>203677</td>\n",
       "      <td>203677</td>\n",
       "      <td>C -&gt; T</td>\n",
       "    </tr>\n",
       "  </tbody>\n",
       "</table>\n",
       "</div>"
      ],
      "text/plain": [
       "                        Minimum  Maximum      Change\n",
       "sample gene     number                              \n",
       "C2     FLO1 CDS 0        204538   204538      A -> G\n",
       "                1        204529   204529      G -> A\n",
       "                2        204459   204460    WA -> TT\n",
       "                3        204456   204456      A -> T\n",
       "                4        204453   204454    CG -> TT\n",
       "                5        204439   204441  GWG -> ACT\n",
       "                6        204434   204436  CGA -> AAC\n",
       "                7        204431   204433  ACM -> GTC\n",
       "                8        204428   204430  BHB -> ACG\n",
       "                9        204416   204418  MMY -> TCA\n",
       "                10       204413   204414    AM -> CC\n",
       "                11       204410   204412  CAY -> ATA\n",
       "                12       204407   204408    CH -> AT\n",
       "                13       204404   204404      C -> A\n",
       "                14       204402   204402      K -> G\n",
       "                15       204398   204400  CAY -> GCT\n",
       "                16       204396   204396      A -> C\n",
       "                17       204394   204394      C -> A\n",
       "                18       204388   204388      C -> A\n",
       "                19       203986   203986      A -> T\n",
       "                20       203977   203977      C -> T\n",
       "                21       203713   203713      A -> T\n",
       "                22       203705   203705      G -> A\n",
       "                23       203696   203698  ATC -> GTT\n",
       "                24       203679   203680    TG -> AA\n",
       "                25       203677   203677      C -> T"
      ]
     },
     "execution_count": 236,
     "metadata": {},
     "output_type": "execute_result"
    }
   ],
   "source": [
    "df2"
   ]
  },
  {
   "cell_type": "code",
   "execution_count": 237,
   "metadata": {
    "collapsed": false
   },
   "outputs": [
    {
     "data": {
      "text/html": [
       "<div>\n",
       "<table border=\"1\" class=\"dataframe\">\n",
       "  <thead>\n",
       "    <tr>\n",
       "      <th>sample</th>\n",
       "      <th colspan=\"26\" halign=\"left\">C2</th>\n",
       "    </tr>\n",
       "    <tr>\n",
       "      <th>gene</th>\n",
       "      <th colspan=\"26\" halign=\"left\">FLO1 CDS</th>\n",
       "    </tr>\n",
       "    <tr>\n",
       "      <th>number</th>\n",
       "      <th>0</th>\n",
       "      <th>1</th>\n",
       "      <th>2</th>\n",
       "      <th>3</th>\n",
       "      <th>4</th>\n",
       "      <th>5</th>\n",
       "      <th>6</th>\n",
       "      <th>7</th>\n",
       "      <th>8</th>\n",
       "      <th>9</th>\n",
       "      <th>10</th>\n",
       "      <th>11</th>\n",
       "      <th>12</th>\n",
       "      <th>13</th>\n",
       "      <th>14</th>\n",
       "      <th>15</th>\n",
       "      <th>16</th>\n",
       "      <th>17</th>\n",
       "      <th>18</th>\n",
       "      <th>19</th>\n",
       "      <th>20</th>\n",
       "      <th>21</th>\n",
       "      <th>22</th>\n",
       "      <th>23</th>\n",
       "      <th>24</th>\n",
       "      <th>25</th>\n",
       "    </tr>\n",
       "  </thead>\n",
       "  <tbody>\n",
       "    <tr>\n",
       "      <th>Minimum</th>\n",
       "      <td>204538</td>\n",
       "      <td>204529</td>\n",
       "      <td>204459</td>\n",
       "      <td>204456</td>\n",
       "      <td>204453</td>\n",
       "      <td>204439</td>\n",
       "      <td>204434</td>\n",
       "      <td>204431</td>\n",
       "      <td>204428</td>\n",
       "      <td>204416</td>\n",
       "      <td>204413</td>\n",
       "      <td>204410</td>\n",
       "      <td>204407</td>\n",
       "      <td>204404</td>\n",
       "      <td>204402</td>\n",
       "      <td>204398</td>\n",
       "      <td>204396</td>\n",
       "      <td>204394</td>\n",
       "      <td>204388</td>\n",
       "      <td>203986</td>\n",
       "      <td>203977</td>\n",
       "      <td>203713</td>\n",
       "      <td>203705</td>\n",
       "      <td>203696</td>\n",
       "      <td>203679</td>\n",
       "      <td>203677</td>\n",
       "    </tr>\n",
       "    <tr>\n",
       "      <th>Maximum</th>\n",
       "      <td>204538</td>\n",
       "      <td>204529</td>\n",
       "      <td>204460</td>\n",
       "      <td>204456</td>\n",
       "      <td>204454</td>\n",
       "      <td>204441</td>\n",
       "      <td>204436</td>\n",
       "      <td>204433</td>\n",
       "      <td>204430</td>\n",
       "      <td>204418</td>\n",
       "      <td>204414</td>\n",
       "      <td>204412</td>\n",
       "      <td>204408</td>\n",
       "      <td>204404</td>\n",
       "      <td>204402</td>\n",
       "      <td>204400</td>\n",
       "      <td>204396</td>\n",
       "      <td>204394</td>\n",
       "      <td>204388</td>\n",
       "      <td>203986</td>\n",
       "      <td>203977</td>\n",
       "      <td>203713</td>\n",
       "      <td>203705</td>\n",
       "      <td>203698</td>\n",
       "      <td>203680</td>\n",
       "      <td>203677</td>\n",
       "    </tr>\n",
       "    <tr>\n",
       "      <th>Change</th>\n",
       "      <td>A -&gt; G</td>\n",
       "      <td>G -&gt; A</td>\n",
       "      <td>WA -&gt; TT</td>\n",
       "      <td>A -&gt; T</td>\n",
       "      <td>CG -&gt; TT</td>\n",
       "      <td>GWG -&gt; ACT</td>\n",
       "      <td>CGA -&gt; AAC</td>\n",
       "      <td>ACM -&gt; GTC</td>\n",
       "      <td>BHB -&gt; ACG</td>\n",
       "      <td>MMY -&gt; TCA</td>\n",
       "      <td>AM -&gt; CC</td>\n",
       "      <td>CAY -&gt; ATA</td>\n",
       "      <td>CH -&gt; AT</td>\n",
       "      <td>C -&gt; A</td>\n",
       "      <td>K -&gt; G</td>\n",
       "      <td>CAY -&gt; GCT</td>\n",
       "      <td>A -&gt; C</td>\n",
       "      <td>C -&gt; A</td>\n",
       "      <td>C -&gt; A</td>\n",
       "      <td>A -&gt; T</td>\n",
       "      <td>C -&gt; T</td>\n",
       "      <td>A -&gt; T</td>\n",
       "      <td>G -&gt; A</td>\n",
       "      <td>ATC -&gt; GTT</td>\n",
       "      <td>TG -&gt; AA</td>\n",
       "      <td>C -&gt; T</td>\n",
       "    </tr>\n",
       "  </tbody>\n",
       "</table>\n",
       "</div>"
      ],
      "text/plain": [
       "sample        C2                                                              \\\n",
       "gene    FLO1 CDS                                                               \n",
       "number        0       1         2       3         4           5           6    \n",
       "Minimum   204538  204529    204459  204456    204453      204439      204434   \n",
       "Maximum   204538  204529    204460  204456    204454      204441      204436   \n",
       "Change    A -> G  G -> A  WA -> TT  A -> T  CG -> TT  GWG -> ACT  CGA -> AAC   \n",
       "\n",
       "sample                                                                       \\\n",
       "gene                                                                          \n",
       "number           7           8           9         10          11        12   \n",
       "Minimum      204431      204428      204416    204413      204410    204407   \n",
       "Maximum      204433      204430      204418    204414      204412    204408   \n",
       "Change   ACM -> GTC  BHB -> ACG  MMY -> TCA  AM -> CC  CAY -> ATA  CH -> AT   \n",
       "\n",
       "sample                                                                       \\\n",
       "gene                                                                          \n",
       "number       13      14          15      16      17      18      19      20   \n",
       "Minimum  204404  204402      204398  204396  204394  204388  203986  203977   \n",
       "Maximum  204404  204402      204400  204396  204394  204388  203986  203977   \n",
       "Change   C -> A  K -> G  CAY -> GCT  A -> C  C -> A  C -> A  A -> T  C -> T   \n",
       "\n",
       "sample                                                 \n",
       "gene                                                   \n",
       "number       21      22          23        24      25  \n",
       "Minimum  203713  203705      203696    203679  203677  \n",
       "Maximum  203713  203705      203698    203680  203677  \n",
       "Change   A -> T  G -> A  ATC -> GTT  TG -> AA  C -> T  "
      ]
     },
     "execution_count": 237,
     "metadata": {},
     "output_type": "execute_result"
    }
   ],
   "source": [
    "df2.T"
   ]
  },
  {
   "cell_type": "code",
   "execution_count": 242,
   "metadata": {
    "collapsed": false
   },
   "outputs": [
    {
     "data": {
      "text/html": [
       "<div>\n",
       "<table border=\"1\" class=\"dataframe\">\n",
       "  <thead>\n",
       "    <tr style=\"text-align: right;\">\n",
       "      <th></th>\n",
       "      <th>Minimum</th>\n",
       "      <th>Maximum</th>\n",
       "      <th>Change</th>\n",
       "    </tr>\n",
       "  </thead>\n",
       "  <tbody>\n",
       "    <tr>\n",
       "      <th>0</th>\n",
       "      <td>204538</td>\n",
       "      <td>204538</td>\n",
       "      <td>A -&gt; G</td>\n",
       "    </tr>\n",
       "    <tr>\n",
       "      <th>1</th>\n",
       "      <td>204529</td>\n",
       "      <td>204529</td>\n",
       "      <td>G -&gt; A</td>\n",
       "    </tr>\n",
       "    <tr>\n",
       "      <th>2</th>\n",
       "      <td>204459</td>\n",
       "      <td>204460</td>\n",
       "      <td>WA -&gt; TT</td>\n",
       "    </tr>\n",
       "    <tr>\n",
       "      <th>3</th>\n",
       "      <td>204456</td>\n",
       "      <td>204456</td>\n",
       "      <td>A -&gt; T</td>\n",
       "    </tr>\n",
       "    <tr>\n",
       "      <th>4</th>\n",
       "      <td>204453</td>\n",
       "      <td>204454</td>\n",
       "      <td>CG -&gt; TT</td>\n",
       "    </tr>\n",
       "    <tr>\n",
       "      <th>5</th>\n",
       "      <td>204407</td>\n",
       "      <td>204408</td>\n",
       "      <td>CH -&gt; AT</td>\n",
       "    </tr>\n",
       "    <tr>\n",
       "      <th>6</th>\n",
       "      <td>204404</td>\n",
       "      <td>204404</td>\n",
       "      <td>C -&gt; A</td>\n",
       "    </tr>\n",
       "    <tr>\n",
       "      <th>7</th>\n",
       "      <td>204402</td>\n",
       "      <td>204402</td>\n",
       "      <td>K -&gt; G</td>\n",
       "    </tr>\n",
       "    <tr>\n",
       "      <th>8</th>\n",
       "      <td>204398</td>\n",
       "      <td>204400</td>\n",
       "      <td>CAY -&gt; GCT</td>\n",
       "    </tr>\n",
       "    <tr>\n",
       "      <th>9</th>\n",
       "      <td>204396</td>\n",
       "      <td>204396</td>\n",
       "      <td>A -&gt; C</td>\n",
       "    </tr>\n",
       "    <tr>\n",
       "      <th>10</th>\n",
       "      <td>204394</td>\n",
       "      <td>204394</td>\n",
       "      <td>C -&gt; A</td>\n",
       "    </tr>\n",
       "    <tr>\n",
       "      <th>11</th>\n",
       "      <td>204388</td>\n",
       "      <td>204388</td>\n",
       "      <td>C -&gt; A</td>\n",
       "    </tr>\n",
       "    <tr>\n",
       "      <th>12</th>\n",
       "      <td>203986</td>\n",
       "      <td>203986</td>\n",
       "      <td>A -&gt; T</td>\n",
       "    </tr>\n",
       "    <tr>\n",
       "      <th>13</th>\n",
       "      <td>203977</td>\n",
       "      <td>203977</td>\n",
       "      <td>C -&gt; T</td>\n",
       "    </tr>\n",
       "    <tr>\n",
       "      <th>14</th>\n",
       "      <td>203679</td>\n",
       "      <td>203680</td>\n",
       "      <td>TG -&gt; AA</td>\n",
       "    </tr>\n",
       "    <tr>\n",
       "      <th>15</th>\n",
       "      <td>203677</td>\n",
       "      <td>203677</td>\n",
       "      <td>C -&gt; T</td>\n",
       "    </tr>\n",
       "  </tbody>\n",
       "</table>\n",
       "</div>"
      ],
      "text/plain": [
       "    Minimum  Maximum      Change\n",
       "0    204538   204538      A -> G\n",
       "1    204529   204529      G -> A\n",
       "2    204459   204460    WA -> TT\n",
       "3    204456   204456      A -> T\n",
       "4    204453   204454    CG -> TT\n",
       "5    204407   204408    CH -> AT\n",
       "6    204404   204404      C -> A\n",
       "7    204402   204402      K -> G\n",
       "8    204398   204400  CAY -> GCT\n",
       "9    204396   204396      A -> C\n",
       "10   204394   204394      C -> A\n",
       "11   204388   204388      C -> A\n",
       "12   203986   203986      A -> T\n",
       "13   203977   203977      C -> T\n",
       "14   203679   203680    TG -> AA\n",
       "15   203677   203677      C -> T"
      ]
     },
     "execution_count": 242,
     "metadata": {},
     "output_type": "execute_result"
    }
   ],
   "source": [
    "pd.merge(left=df, right=df2)"
   ]
  },
  {
   "cell_type": "code",
   "execution_count": 246,
   "metadata": {
    "collapsed": false
   },
   "outputs": [
    {
     "data": {
      "text/html": [
       "<div>\n",
       "<table border=\"1\" class=\"dataframe\">\n",
       "  <thead>\n",
       "    <tr>\n",
       "      <th>sample</th>\n",
       "      <th colspan=\"24\" halign=\"left\">C1</th>\n",
       "      <th colspan=\"26\" halign=\"left\">C2</th>\n",
       "    </tr>\n",
       "    <tr>\n",
       "      <th>gene</th>\n",
       "      <th colspan=\"24\" halign=\"left\">FLO1 CDS</th>\n",
       "      <th colspan=\"26\" halign=\"left\">FLO1 CDS</th>\n",
       "    </tr>\n",
       "    <tr>\n",
       "      <th>number</th>\n",
       "      <th>0</th>\n",
       "      <th>1</th>\n",
       "      <th>2</th>\n",
       "      <th>3</th>\n",
       "      <th>4</th>\n",
       "      <th>5</th>\n",
       "      <th>6</th>\n",
       "      <th>7</th>\n",
       "      <th>8</th>\n",
       "      <th>9</th>\n",
       "      <th>10</th>\n",
       "      <th>11</th>\n",
       "      <th>12</th>\n",
       "      <th>13</th>\n",
       "      <th>14</th>\n",
       "      <th>15</th>\n",
       "      <th>16</th>\n",
       "      <th>17</th>\n",
       "      <th>18</th>\n",
       "      <th>19</th>\n",
       "      <th>20</th>\n",
       "      <th>21</th>\n",
       "      <th>22</th>\n",
       "      <th>23</th>\n",
       "      <th>0</th>\n",
       "      <th>1</th>\n",
       "      <th>2</th>\n",
       "      <th>3</th>\n",
       "      <th>4</th>\n",
       "      <th>5</th>\n",
       "      <th>6</th>\n",
       "      <th>7</th>\n",
       "      <th>8</th>\n",
       "      <th>9</th>\n",
       "      <th>10</th>\n",
       "      <th>11</th>\n",
       "      <th>12</th>\n",
       "      <th>13</th>\n",
       "      <th>14</th>\n",
       "      <th>15</th>\n",
       "      <th>16</th>\n",
       "      <th>17</th>\n",
       "      <th>18</th>\n",
       "      <th>19</th>\n",
       "      <th>20</th>\n",
       "      <th>21</th>\n",
       "      <th>22</th>\n",
       "      <th>23</th>\n",
       "      <th>24</th>\n",
       "      <th>25</th>\n",
       "    </tr>\n",
       "  </thead>\n",
       "  <tbody>\n",
       "    <tr>\n",
       "      <th>Minimum</th>\n",
       "      <td>204538</td>\n",
       "      <td>204529</td>\n",
       "      <td>204459</td>\n",
       "      <td>204456</td>\n",
       "      <td>204453</td>\n",
       "      <td>204449</td>\n",
       "      <td>204443</td>\n",
       "      <td>204435</td>\n",
       "      <td>204431</td>\n",
       "      <td>204428</td>\n",
       "      <td>204424</td>\n",
       "      <td>204419</td>\n",
       "      <td>204410</td>\n",
       "      <td>204407</td>\n",
       "      <td>204404</td>\n",
       "      <td>204402</td>\n",
       "      <td>204398</td>\n",
       "      <td>204396</td>\n",
       "      <td>204394</td>\n",
       "      <td>204388</td>\n",
       "      <td>203986</td>\n",
       "      <td>203977</td>\n",
       "      <td>203679</td>\n",
       "      <td>203677</td>\n",
       "      <td>204538</td>\n",
       "      <td>204529</td>\n",
       "      <td>204459</td>\n",
       "      <td>204456</td>\n",
       "      <td>204453</td>\n",
       "      <td>204439</td>\n",
       "      <td>204434</td>\n",
       "      <td>204431</td>\n",
       "      <td>204428</td>\n",
       "      <td>204416</td>\n",
       "      <td>204413</td>\n",
       "      <td>204410</td>\n",
       "      <td>204407</td>\n",
       "      <td>204404</td>\n",
       "      <td>204402</td>\n",
       "      <td>204398</td>\n",
       "      <td>204396</td>\n",
       "      <td>204394</td>\n",
       "      <td>204388</td>\n",
       "      <td>203986</td>\n",
       "      <td>203977</td>\n",
       "      <td>203713</td>\n",
       "      <td>203705</td>\n",
       "      <td>203696</td>\n",
       "      <td>203679</td>\n",
       "      <td>203677</td>\n",
       "    </tr>\n",
       "    <tr>\n",
       "      <th>Maximum</th>\n",
       "      <td>204538</td>\n",
       "      <td>204529</td>\n",
       "      <td>204460</td>\n",
       "      <td>204456</td>\n",
       "      <td>204454</td>\n",
       "      <td>204451</td>\n",
       "      <td>204448</td>\n",
       "      <td>204435</td>\n",
       "      <td>204433</td>\n",
       "      <td>204430</td>\n",
       "      <td>204426</td>\n",
       "      <td>204419</td>\n",
       "      <td>204411</td>\n",
       "      <td>204408</td>\n",
       "      <td>204404</td>\n",
       "      <td>204402</td>\n",
       "      <td>204400</td>\n",
       "      <td>204396</td>\n",
       "      <td>204394</td>\n",
       "      <td>204388</td>\n",
       "      <td>203986</td>\n",
       "      <td>203977</td>\n",
       "      <td>203680</td>\n",
       "      <td>203677</td>\n",
       "      <td>204538</td>\n",
       "      <td>204529</td>\n",
       "      <td>204460</td>\n",
       "      <td>204456</td>\n",
       "      <td>204454</td>\n",
       "      <td>204441</td>\n",
       "      <td>204436</td>\n",
       "      <td>204433</td>\n",
       "      <td>204430</td>\n",
       "      <td>204418</td>\n",
       "      <td>204414</td>\n",
       "      <td>204412</td>\n",
       "      <td>204408</td>\n",
       "      <td>204404</td>\n",
       "      <td>204402</td>\n",
       "      <td>204400</td>\n",
       "      <td>204396</td>\n",
       "      <td>204394</td>\n",
       "      <td>204388</td>\n",
       "      <td>203986</td>\n",
       "      <td>203977</td>\n",
       "      <td>203713</td>\n",
       "      <td>203705</td>\n",
       "      <td>203698</td>\n",
       "      <td>203680</td>\n",
       "      <td>203677</td>\n",
       "    </tr>\n",
       "    <tr>\n",
       "      <th>Change</th>\n",
       "      <td>A -&gt; G</td>\n",
       "      <td>G -&gt; A</td>\n",
       "      <td>WA -&gt; TT</td>\n",
       "      <td>A -&gt; T</td>\n",
       "      <td>CG -&gt; TT</td>\n",
       "      <td>CAC -&gt; GTT</td>\n",
       "      <td>TSSCCA -&gt; GAAACC</td>\n",
       "      <td>G -&gt; C</td>\n",
       "      <td>ACM -&gt; CAA</td>\n",
       "      <td>BHB -&gt; CGGT</td>\n",
       "      <td>RMS -&gt; CCA</td>\n",
       "      <td>C -&gt; A</td>\n",
       "      <td>CA -&gt; AT</td>\n",
       "      <td>CH -&gt; AT</td>\n",
       "      <td>C -&gt; A</td>\n",
       "      <td>K -&gt; G</td>\n",
       "      <td>CAY -&gt; GCT</td>\n",
       "      <td>A -&gt; C</td>\n",
       "      <td>C -&gt; A</td>\n",
       "      <td>C -&gt; A</td>\n",
       "      <td>A -&gt; T</td>\n",
       "      <td>C -&gt; T</td>\n",
       "      <td>TG -&gt; AA</td>\n",
       "      <td>C -&gt; T</td>\n",
       "      <td>A -&gt; G</td>\n",
       "      <td>G -&gt; A</td>\n",
       "      <td>WA -&gt; TT</td>\n",
       "      <td>A -&gt; T</td>\n",
       "      <td>CG -&gt; TT</td>\n",
       "      <td>GWG -&gt; ACT</td>\n",
       "      <td>CGA -&gt; AAC</td>\n",
       "      <td>ACM -&gt; GTC</td>\n",
       "      <td>BHB -&gt; ACG</td>\n",
       "      <td>MMY -&gt; TCA</td>\n",
       "      <td>AM -&gt; CC</td>\n",
       "      <td>CAY -&gt; ATA</td>\n",
       "      <td>CH -&gt; AT</td>\n",
       "      <td>C -&gt; A</td>\n",
       "      <td>K -&gt; G</td>\n",
       "      <td>CAY -&gt; GCT</td>\n",
       "      <td>A -&gt; C</td>\n",
       "      <td>C -&gt; A</td>\n",
       "      <td>C -&gt; A</td>\n",
       "      <td>A -&gt; T</td>\n",
       "      <td>C -&gt; T</td>\n",
       "      <td>A -&gt; T</td>\n",
       "      <td>G -&gt; A</td>\n",
       "      <td>ATC -&gt; GTT</td>\n",
       "      <td>TG -&gt; AA</td>\n",
       "      <td>C -&gt; T</td>\n",
       "    </tr>\n",
       "  </tbody>\n",
       "</table>\n",
       "</div>"
      ],
      "text/plain": [
       "sample        C1                                                  \\\n",
       "gene    FLO1 CDS                                                   \n",
       "number        0       1         2       3         4           5    \n",
       "Minimum   204538  204529    204459  204456    204453      204449   \n",
       "Maximum   204538  204529    204460  204456    204454      204451   \n",
       "Change    A -> G  G -> A  WA -> TT  A -> T  CG -> TT  CAC -> GTT   \n",
       "\n",
       "sample                                                                  \\\n",
       "gene                                                                     \n",
       "number                 6       7           8            9           10   \n",
       "Minimum            204443  204435      204431       204428      204424   \n",
       "Maximum            204448  204435      204433       204430      204426   \n",
       "Change   TSSCCA -> GAAACC  G -> C  ACM -> CAA  BHB -> CGGT  RMS -> CCA   \n",
       "\n",
       "sample                                                                   \\\n",
       "gene                                                                      \n",
       "number       11        12        13      14      15          16      17   \n",
       "Minimum  204419    204410    204407  204404  204402      204398  204396   \n",
       "Maximum  204419    204411    204408  204404  204402      204400  204396   \n",
       "Change   C -> A  CA -> AT  CH -> AT  C -> A  K -> G  CAY -> GCT  A -> C   \n",
       "\n",
       "sample                                                          C2          \\\n",
       "gene                                                      FLO1 CDS           \n",
       "number       18      19      20      21        22      23       0       1    \n",
       "Minimum  204394  204388  203986  203977    203679  203677   204538  204529   \n",
       "Maximum  204394  204388  203986  203977    203680  203677   204538  204529   \n",
       "Change   C -> A  C -> A  A -> T  C -> T  TG -> AA  C -> T   A -> G  G -> A   \n",
       "\n",
       "sample                                                                   \\\n",
       "gene                                                                      \n",
       "number         2       3         4           5           6           7    \n",
       "Minimum    204459  204456    204453      204439      204434      204431   \n",
       "Maximum    204460  204456    204454      204441      204436      204433   \n",
       "Change   WA -> TT  A -> T  CG -> TT  GWG -> ACT  CGA -> AAC  ACM -> GTC   \n",
       "\n",
       "sample                                                                   \\\n",
       "gene                                                                      \n",
       "number           8           9         10          11        12      13   \n",
       "Minimum      204428      204416    204413      204410    204407  204404   \n",
       "Maximum      204430      204418    204414      204412    204408  204404   \n",
       "Change   BHB -> ACG  MMY -> TCA  AM -> CC  CAY -> ATA  CH -> AT  C -> A   \n",
       "\n",
       "sample                                                                       \\\n",
       "gene                                                                          \n",
       "number       14          15      16      17      18      19      20      21   \n",
       "Minimum  204402      204398  204396  204394  204388  203986  203977  203713   \n",
       "Maximum  204402      204400  204396  204394  204388  203986  203977  203713   \n",
       "Change   K -> G  CAY -> GCT  A -> C  C -> A  C -> A  A -> T  C -> T  A -> T   \n",
       "\n",
       "sample                                         \n",
       "gene                                           \n",
       "number       22          23        24      25  \n",
       "Minimum  203705      203696    203679  203677  \n",
       "Maximum  203705      203698    203680  203677  \n",
       "Change   G -> A  ATC -> GTT  TG -> AA  C -> T  "
      ]
     },
     "execution_count": 246,
     "metadata": {},
     "output_type": "execute_result"
    }
   ],
   "source": [
    "pd.concat([df, df2]).T"
   ]
  },
  {
   "cell_type": "code",
   "execution_count": null,
   "metadata": {
    "collapsed": true
   },
   "outputs": [],
   "source": []
  },
  {
   "cell_type": "code",
   "execution_count": 83,
   "metadata": {
    "collapsed": true
   },
   "outputs": [],
   "source": [
    "arrays = [list(\"abcdef\"),\n",
    "          [\"foo\"] * 2 + [\"bar\"] * 3]"
   ]
  },
  {
   "cell_type": "code",
   "execution_count": 84,
   "metadata": {
    "collapsed": false
   },
   "outputs": [
    {
     "data": {
      "text/plain": [
       "[['a', 'b', 'c', 'd', 'e', 'f'], ['foo', 'foo', 'bar', 'bar', 'bar']]"
      ]
     },
     "execution_count": 84,
     "metadata": {},
     "output_type": "execute_result"
    }
   ],
   "source": [
    "arrays"
   ]
  },
  {
   "cell_type": "code",
   "execution_count": 86,
   "metadata": {
    "collapsed": false
   },
   "outputs": [
    {
     "data": {
      "text/plain": [
       "[('a', 'foo'), ('b', 'foo'), ('c', 'bar'), ('d', 'bar'), ('e', 'bar')]"
      ]
     },
     "execution_count": 86,
     "metadata": {},
     "output_type": "execute_result"
    }
   ],
   "source": [
    "zip(*arrays)"
   ]
  },
  {
   "cell_type": "code",
   "execution_count": 93,
   "metadata": {
    "collapsed": false
   },
   "outputs": [],
   "source": [
    "index = pd.MultiIndex.from_tuples(list(zip(*arrays)), names=[\"alphanumerical\", \"fooberical\"])"
   ]
  },
  {
   "cell_type": "code",
   "execution_count": 94,
   "metadata": {
    "collapsed": false
   },
   "outputs": [
    {
     "data": {
      "text/plain": [
       "MultiIndex(levels=[[u'a', u'b', u'c', u'd', u'e'], [u'bar', u'foo']],\n",
       "           labels=[[0, 1, 2, 3, 4], [1, 1, 0, 0, 0]],\n",
       "           names=[u'alphanumerical', u'fooberical'])"
      ]
     },
     "execution_count": 94,
     "metadata": {},
     "output_type": "execute_result"
    }
   ],
   "source": [
    "index"
   ]
  },
  {
   "cell_type": "code",
   "execution_count": 96,
   "metadata": {
    "collapsed": false
   },
   "outputs": [],
   "source": [
    "s = pd.Series(range(5), index=index)"
   ]
  },
  {
   "cell_type": "code",
   "execution_count": 98,
   "metadata": {
    "collapsed": false
   },
   "outputs": [
    {
     "data": {
      "text/plain": [
       "alphanumerical  fooberical\n",
       "a               foo           0\n",
       "b               foo           1\n",
       "c               bar           2\n",
       "d               bar           3\n",
       "e               bar           4\n",
       "dtype: int64"
      ]
     },
     "execution_count": 98,
     "metadata": {},
     "output_type": "execute_result"
    }
   ],
   "source": [
    "s"
   ]
  },
  {
   "cell_type": "code",
   "execution_count": 133,
   "metadata": {
    "collapsed": false
   },
   "outputs": [],
   "source": [
    "df = pd.DataFrame(s, columns=[\"col\"])"
   ]
  },
  {
   "cell_type": "code",
   "execution_count": 148,
   "metadata": {
    "collapsed": false
   },
   "outputs": [
    {
     "data": {
      "text/html": [
       "<div>\n",
       "<table border=\"1\" class=\"dataframe\">\n",
       "  <thead>\n",
       "    <tr style=\"text-align: right;\">\n",
       "      <th></th>\n",
       "      <th></th>\n",
       "      <th>col</th>\n",
       "    </tr>\n",
       "    <tr>\n",
       "      <th>alphanumerical</th>\n",
       "      <th>fooberical</th>\n",
       "      <th></th>\n",
       "    </tr>\n",
       "  </thead>\n",
       "  <tbody>\n",
       "    <tr>\n",
       "      <th>a</th>\n",
       "      <th>foo</th>\n",
       "      <td>0</td>\n",
       "    </tr>\n",
       "    <tr>\n",
       "      <th>b</th>\n",
       "      <th>foo</th>\n",
       "      <td>1</td>\n",
       "    </tr>\n",
       "    <tr>\n",
       "      <th>c</th>\n",
       "      <th>bar</th>\n",
       "      <td>2</td>\n",
       "    </tr>\n",
       "    <tr>\n",
       "      <th>d</th>\n",
       "      <th>bar</th>\n",
       "      <td>3</td>\n",
       "    </tr>\n",
       "    <tr>\n",
       "      <th>e</th>\n",
       "      <th>bar</th>\n",
       "      <td>4</td>\n",
       "    </tr>\n",
       "  </tbody>\n",
       "</table>\n",
       "</div>"
      ],
      "text/plain": [
       "                           col\n",
       "alphanumerical fooberical     \n",
       "a              foo           0\n",
       "b              foo           1\n",
       "c              bar           2\n",
       "d              bar           3\n",
       "e              bar           4"
      ]
     },
     "execution_count": 148,
     "metadata": {},
     "output_type": "execute_result"
    }
   ],
   "source": [
    "df"
   ]
  },
  {
   "cell_type": "code",
   "execution_count": 155,
   "metadata": {
    "collapsed": false
   },
   "outputs": [
    {
     "data": {
      "text/html": [
       "<div>\n",
       "<table border=\"1\" class=\"dataframe\">\n",
       "  <thead>\n",
       "    <tr style=\"text-align: right;\">\n",
       "      <th></th>\n",
       "      <th>col</th>\n",
       "    </tr>\n",
       "    <tr>\n",
       "      <th>fooberical</th>\n",
       "      <th></th>\n",
       "    </tr>\n",
       "  </thead>\n",
       "  <tbody>\n",
       "    <tr>\n",
       "      <th>foo</th>\n",
       "      <td>0</td>\n",
       "    </tr>\n",
       "  </tbody>\n",
       "</table>\n",
       "</div>"
      ],
      "text/plain": [
       "            col\n",
       "fooberical     \n",
       "foo           0"
      ]
     },
     "execution_count": 155,
     "metadata": {},
     "output_type": "execute_result"
    }
   ],
   "source": [
    "df.xs(\"a\", level=\"alphanumerical\")"
   ]
  }
 ],
 "metadata": {
  "kernelspec": {
   "display_name": "Python [default]",
   "language": "python",
   "name": "python2"
  },
  "language_info": {
   "codemirror_mode": {
    "name": "ipython",
    "version": 2
   },
   "file_extension": ".py",
   "mimetype": "text/x-python",
   "name": "python",
   "nbconvert_exporter": "python",
   "pygments_lexer": "ipython2",
   "version": "2.7.13"
  }
 },
 "nbformat": 4,
 "nbformat_minor": 2
}
