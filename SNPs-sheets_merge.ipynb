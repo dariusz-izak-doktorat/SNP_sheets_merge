{
 "cells": [
  {
   "cell_type": "code",
   "execution_count": 1,
   "metadata": {
    "collapsed": true
   },
   "outputs": [],
   "source": [
    "import pandas as pd"
   ]
  },
  {
   "cell_type": "code",
   "execution_count": 2,
   "metadata": {
    "collapsed": true
   },
   "outputs": [],
   "source": [
    "import numpy as np"
   ]
  },
  {
   "cell_type": "code",
   "execution_count": 3,
   "metadata": {
    "collapsed": true
   },
   "outputs": [],
   "source": [
    "from glob import glob"
   ]
  },
  {
   "cell_type": "code",
   "execution_count": 4,
   "metadata": {
    "collapsed": true
   },
   "outputs": [],
   "source": [
    "import itertools"
   ]
  },
  {
   "cell_type": "markdown",
   "metadata": {},
   "source": [
    "#### some pandas opts"
   ]
  },
  {
   "cell_type": "code",
   "execution_count": 5,
   "metadata": {
    "collapsed": true
   },
   "outputs": [],
   "source": [
    "pd.options.display.max_columns = 100"
   ]
  },
  {
   "cell_type": "code",
   "execution_count": 6,
   "metadata": {
    "collapsed": true
   },
   "outputs": [],
   "source": [
    "pd.options.display.max_rows = 500"
   ]
  },
  {
   "cell_type": "markdown",
   "metadata": {},
   "source": [
    "#### where are the files?"
   ]
  },
  {
   "cell_type": "code",
   "execution_count": 7,
   "metadata": {
    "collapsed": false
   },
   "outputs": [
    {
     "name": "stdout",
     "output_type": "stream",
     "text": [
      "\u001b[0m\u001b[01;32m16 documents from consensus.geneious\u001b[0m*\r\n",
      "\u001b[01;32m16 documents from WT-day70 to WT-zero point.geneious\u001b[0m*\r\n",
      "\u001b[34;42mBY-day0\u001b[0m/\r\n",
      "\u001b[34;42mBY-nup133-day70\u001b[0m/\r\n",
      "\u001b[34;42mBY-WT-day70\u001b[0m/\r\n",
      "\u001b[34;42mconsensus\u001b[0m/\r\n",
      "\u001b[34;42mmapped_contigs\u001b[0m/\r\n",
      "\u001b[34;42mmapped_reads\u001b[0m/\r\n",
      "\u001b[01;32mnup mapped to wt cons.geneious\u001b[0m*\r\n",
      "\u001b[34;42mW303-cog7-day42\u001b[0m/\r\n",
      "\u001b[34;42mW303-nup133-day42\u001b[0m/\r\n",
      "\u001b[34;42mWT-day70\u001b[0m/\r\n",
      "\u001b[01;32mWT-day70.xlsx\u001b[0m*\r\n"
     ]
    }
   ],
   "source": [
    "%ls /home/dizak/Pulpit/BIONAS/G148/SNPs_calling/"
   ]
  },
  {
   "cell_type": "code",
   "execution_count": 8,
   "metadata": {
    "collapsed": false
   },
   "outputs": [],
   "source": [
    "W303_cog7_day42_C1_files = glob(\"/home/dizak/Pulpit/BIONAS/G148/SNPs_calling/W303-cog7-day42/C1/*csv\")"
   ]
  },
  {
   "cell_type": "code",
   "execution_count": 9,
   "metadata": {
    "collapsed": true
   },
   "outputs": [],
   "source": [
    "W303_cog7_day42_C2_files = glob(\"/home/dizak/Pulpit/BIONAS/G148/SNPs_calling/W303-cog7-day42/C2/*csv\")"
   ]
  },
  {
   "cell_type": "code",
   "execution_count": 10,
   "metadata": {
    "collapsed": true
   },
   "outputs": [],
   "source": [
    "W303_cog7_day42_C3_files = glob(\"/home/dizak/Pulpit/BIONAS/G148/SNPs_calling/W303-cog7-day42/C3/*csv\")"
   ]
  },
  {
   "cell_type": "markdown",
   "metadata": {},
   "source": [
    "#### get non-redundant list of genes in the inputfiles"
   ]
  },
  {
   "cell_type": "code",
   "execution_count": 11,
   "metadata": {
    "collapsed": false,
    "scrolled": true
   },
   "outputs": [],
   "source": [
    "def find_flat_value(inputfiles_list,\n",
    "                    col_name = \"CDS\"):\n",
    "    \"\"\"\n",
    "    Get flat list of desired values from list of CSV files.\n",
    "    \n",
    "    Parameters\n",
    "    -------\n",
    "    inputfiles_list: list of str\n",
    "        List of input CSV files.\n",
    "    col_name: str\n",
    "        Desired column name in the input CSV file.\n",
    "    \n",
    "    Returns\n",
    "    -------\n",
    "    list of desired values.\n",
    "    \"\"\"\n",
    "    values_list = []\n",
    "    for i in inputfiles_list:\n",
    "        df = pd.read_csv(i)\n",
    "        if len(df) == 0:\n",
    "            pass\n",
    "        elif col_name not in df.columns:\n",
    "            pass\n",
    "        else:\n",
    "            values_list.append(df[col_name].dropna().drop_duplicates().tolist())\n",
    "    return list(itertools.chain.from_iterable(values_list))"
   ]
  },
  {
   "cell_type": "markdown",
   "metadata": {},
   "source": [
    "#### get values from input files by key"
   ]
  },
  {
   "cell_type": "code",
   "execution_count": 12,
   "metadata": {
    "collapsed": false
   },
   "outputs": [],
   "source": [
    "def find_by_key(inputfiles_list,\n",
    "                key):\n",
    "    \"\"\"\n",
    "    Get pandas.DataFrame selected by a given key from list of CSV files.\n",
    "    \n",
    "    Parameters\n",
    "    -------\n",
    "    inputfiles_list: list of str\n",
    "        List of input CSV files.\n",
    "    key: str, int, float, bool\n",
    "        Key used as query against rows in the CSV files.\n",
    "    value_col: str\n",
    "        Column name which holds values to be returned.\n",
    "    \n",
    "    Returns\n",
    "    -------\n",
    "    dict of lists of desired values if pandas.Dataframe not empty\n",
    "    None if pandas.DataFrame empty\n",
    "    \"\"\"\n",
    "    values_list = []\n",
    "    for i in inputfiles_list:\n",
    "        filename = \"\".join(i.split(\"/\")[-1].split(\".\")[:-1])\n",
    "        df = pd.read_csv(i)\n",
    "        if len(df) == 0:\n",
    "            pass\n",
    "        else:\n",
    "            if isinstance(key, str) == True:\n",
    "                df_dtype_sel = df.select_dtypes(include=[\"object\"])\n",
    "            elif isinstance(key, int) == True:\n",
    "                df_dtype_sel = df.select_dtypes(include=[\"int\"])\n",
    "            elif isinstance(key, float) == True:\n",
    "                df_dtype_sel = df.select_dtypes(include=[\"float\"])\n",
    "            elif isinstance(key, bool) == True:\n",
    "                df_dtype_sel = df.select_dtypes(include=[\"bool\"])\n",
    "            else:\n",
    "                raise ValueError(\"key must str, int, float or bool dtype\")\n",
    "            for col in df_dtype_sel.columns:\n",
    "                df_sel = df[df_dtype_sel[col] == key]\n",
    "                if len(df_sel) > 0:\n",
    "                    return {\"dataframe\": df_sel,\n",
    "                            \"filename\": filename}"
   ]
  },
  {
   "cell_type": "markdown",
   "metadata": {},
   "source": [
    "#### get whole set of pandas.DataFrames selections in one dict"
   ]
  },
  {
   "cell_type": "code",
   "execution_count": 13,
   "metadata": {
    "collapsed": true
   },
   "outputs": [],
   "source": [
    "def get_dfs_set(key_list,\n",
    "                files_list,\n",
    "                vals=[\"Minimum\",\n",
    "                      \"Maximum\",\n",
    "                      \"Change\"],\n",
    "                df_key=\"dataframe\",\n",
    "                index_by_key=True):\n",
    "    \"\"\"\n",
    "    Get desired values in pandas.Dataframe gathered in dict by\n",
    "    the list of keys.\n",
    "    \"\"\"\n",
    "    out_dict = {}\n",
    "    for i in key_list:\n",
    "        key_vals = find_by_key(files_list,\n",
    "                              key=i)[df_key]\n",
    "        out_dict[i] = key_vals[vals]\n",
    "    if index_by_key is True:\n",
    "        for i in out_dict:\n",
    "            out_dict[i].index = [i] * len(out_dict[i])\n",
    "    else:\n",
    "        pass\n",
    "    return out_dict"
   ]
  },
  {
   "cell_type": "markdown",
   "metadata": {},
   "source": [
    "#### merge any given number of dfs"
   ]
  },
  {
   "cell_type": "code",
   "execution_count": 68,
   "metadata": {
    "collapsed": false
   },
   "outputs": [],
   "source": [
    "def merge_dfs(dfs,\n",
    "              sort_cols=[\"Minimum\",\n",
    "                         \"Maximum\"],\n",
    "              reconstr_index=True):\n",
    "    \"\"\"\n",
    "    Merge any number of pandas.DataFrame into one.\n",
    "    Indexes must be identical in all the pandas.DataFrames.\n",
    "    \n",
    "    Parameters\n",
    "    -------\n",
    "    dfs: list\n",
    "        list of pandas.DataFrames to merge.\n",
    "    sort_cols: list, None\n",
    "        list of col names to sort the final\n",
    "        pandas.DataFrame by. No sorting if None.\n",
    "    \"\"\"\n",
    "    for x in [set(i.index) for i in dfs]:\n",
    "        assert len(x) == 1, \"Indices are not homogenic.\"\n",
    "    new_index = list(x)\n",
    "    df = reduce(lambda df1, df2: pd.merge(left=df1,\n",
    "                                          right=df2,\n",
    "                                          how=\"outer\"),\n",
    "                dfs)\n",
    "    if sort_cols is not None:\n",
    "        df.sort(columns=sort_cols)\n",
    "    if reconstr_index is True:\n",
    "        df.index = len(df) * new_index\n",
    "    return df"
   ]
  },
  {
   "cell_type": "markdown",
   "metadata": {},
   "source": [
    "#### let's find out which CDS are present in all the files one by one"
   ]
  },
  {
   "cell_type": "code",
   "execution_count": 15,
   "metadata": {
    "collapsed": true
   },
   "outputs": [],
   "source": [
    "W303_cog7_day42_C1_CDSs = find_flat_value(W303_cog7_day42_C1_files)\n",
    "W303_cog7_day42_C2_CDSs = find_flat_value(W303_cog7_day42_C2_files)\n",
    "W303_cog7_day42_C3_CDSs = find_flat_value(W303_cog7_day42_C3_files)"
   ]
  },
  {
   "cell_type": "markdown",
   "metadata": {},
   "source": [
    "#### let's gather some info about each of the CDS from each sample"
   ]
  },
  {
   "cell_type": "code",
   "execution_count": 16,
   "metadata": {
    "collapsed": false
   },
   "outputs": [],
   "source": [
    "W303_cog7_day42_C1_dfs = get_dfs_set(W303_cog7_day42_C1_CDSs, W303_cog7_day42_C1_files)\n",
    "W303_cog7_day42_C2_dfs = get_dfs_set(W303_cog7_day42_C2_CDSs, W303_cog7_day42_C2_files)\n",
    "W303_cog7_day42_C3_dfs = get_dfs_set(W303_cog7_day42_C3_CDSs, W303_cog7_day42_C3_files)"
   ]
  },
  {
   "cell_type": "markdown",
   "metadata": {},
   "source": [
    "#### which CDSs are common for all 3?"
   ]
  },
  {
   "cell_type": "code",
   "execution_count": 39,
   "metadata": {
    "collapsed": false
   },
   "outputs": [],
   "source": [
    "W303_cog7_day42_comm_CDS = reduce(lambda x, y: [i for i in x if i in y],\n",
    "                                  [W303_cog7_day42_C1_CDSs,\n",
    "                                   W303_cog7_day42_C2_CDSs,\n",
    "                                   W303_cog7_day42_C3_CDSs])"
   ]
  },
  {
   "cell_type": "code",
   "execution_count": 69,
   "metadata": {
    "collapsed": false
   },
   "outputs": [
    {
     "name": "stderr",
     "output_type": "stream",
     "text": [
      "/home/dizak/anaconda2/lib/python2.7/site-packages/ipykernel/__main__.py:25: FutureWarning: sort(columns=....) is deprecated, use sort_values(by=.....)\n"
     ]
    }
   ],
   "source": [
    "out_dict = {}\n",
    "for i in W303_cog7_day42_comm_CDS:\n",
    "    out_dict[i] = merge_dfs([W303_cog7_day42_C1_dfs[i],\n",
    "                             W303_cog7_day42_C2_dfs[i],\n",
    "                             W303_cog7_day42_C3_dfs[i]])"
   ]
  },
  {
   "cell_type": "code",
   "execution_count": 70,
   "metadata": {
    "collapsed": false
   },
   "outputs": [
    {
     "data": {
      "text/html": [
       "<div>\n",
       "<table border=\"1\" class=\"dataframe\">\n",
       "  <thead>\n",
       "    <tr style=\"text-align: right;\">\n",
       "      <th></th>\n",
       "      <th>Minimum</th>\n",
       "      <th>Maximum</th>\n",
       "      <th>Change</th>\n",
       "    </tr>\n",
       "  </thead>\n",
       "  <tbody>\n",
       "    <tr>\n",
       "      <th>FLO1 CDS</th>\n",
       "      <td>204538</td>\n",
       "      <td>204538</td>\n",
       "      <td>A -&gt; G</td>\n",
       "    </tr>\n",
       "    <tr>\n",
       "      <th>FLO1 CDS</th>\n",
       "      <td>204529</td>\n",
       "      <td>204529</td>\n",
       "      <td>G -&gt; A</td>\n",
       "    </tr>\n",
       "    <tr>\n",
       "      <th>FLO1 CDS</th>\n",
       "      <td>204459</td>\n",
       "      <td>204460</td>\n",
       "      <td>WA -&gt; TT</td>\n",
       "    </tr>\n",
       "    <tr>\n",
       "      <th>FLO1 CDS</th>\n",
       "      <td>204456</td>\n",
       "      <td>204456</td>\n",
       "      <td>A -&gt; T</td>\n",
       "    </tr>\n",
       "    <tr>\n",
       "      <th>FLO1 CDS</th>\n",
       "      <td>204453</td>\n",
       "      <td>204454</td>\n",
       "      <td>CG -&gt; TT</td>\n",
       "    </tr>\n",
       "    <tr>\n",
       "      <th>FLO1 CDS</th>\n",
       "      <td>204449</td>\n",
       "      <td>204451</td>\n",
       "      <td>CAC -&gt; GTT</td>\n",
       "    </tr>\n",
       "    <tr>\n",
       "      <th>FLO1 CDS</th>\n",
       "      <td>204443</td>\n",
       "      <td>204448</td>\n",
       "      <td>TSSCCA -&gt; GAAACC</td>\n",
       "    </tr>\n",
       "    <tr>\n",
       "      <th>FLO1 CDS</th>\n",
       "      <td>204435</td>\n",
       "      <td>204435</td>\n",
       "      <td>G -&gt; C</td>\n",
       "    </tr>\n",
       "    <tr>\n",
       "      <th>FLO1 CDS</th>\n",
       "      <td>204431</td>\n",
       "      <td>204433</td>\n",
       "      <td>ACM -&gt; CAA</td>\n",
       "    </tr>\n",
       "    <tr>\n",
       "      <th>FLO1 CDS</th>\n",
       "      <td>204428</td>\n",
       "      <td>204430</td>\n",
       "      <td>BHB -&gt; CGGT</td>\n",
       "    </tr>\n",
       "    <tr>\n",
       "      <th>FLO1 CDS</th>\n",
       "      <td>204424</td>\n",
       "      <td>204426</td>\n",
       "      <td>RMS -&gt; CCA</td>\n",
       "    </tr>\n",
       "    <tr>\n",
       "      <th>FLO1 CDS</th>\n",
       "      <td>204419</td>\n",
       "      <td>204419</td>\n",
       "      <td>C -&gt; A</td>\n",
       "    </tr>\n",
       "    <tr>\n",
       "      <th>FLO1 CDS</th>\n",
       "      <td>204410</td>\n",
       "      <td>204411</td>\n",
       "      <td>CA -&gt; AT</td>\n",
       "    </tr>\n",
       "    <tr>\n",
       "      <th>FLO1 CDS</th>\n",
       "      <td>204407</td>\n",
       "      <td>204408</td>\n",
       "      <td>CH -&gt; AT</td>\n",
       "    </tr>\n",
       "    <tr>\n",
       "      <th>FLO1 CDS</th>\n",
       "      <td>204404</td>\n",
       "      <td>204404</td>\n",
       "      <td>C -&gt; A</td>\n",
       "    </tr>\n",
       "    <tr>\n",
       "      <th>FLO1 CDS</th>\n",
       "      <td>204402</td>\n",
       "      <td>204402</td>\n",
       "      <td>K -&gt; G</td>\n",
       "    </tr>\n",
       "    <tr>\n",
       "      <th>FLO1 CDS</th>\n",
       "      <td>204398</td>\n",
       "      <td>204400</td>\n",
       "      <td>CAY -&gt; GCT</td>\n",
       "    </tr>\n",
       "    <tr>\n",
       "      <th>FLO1 CDS</th>\n",
       "      <td>204396</td>\n",
       "      <td>204396</td>\n",
       "      <td>A -&gt; C</td>\n",
       "    </tr>\n",
       "    <tr>\n",
       "      <th>FLO1 CDS</th>\n",
       "      <td>204394</td>\n",
       "      <td>204394</td>\n",
       "      <td>C -&gt; A</td>\n",
       "    </tr>\n",
       "    <tr>\n",
       "      <th>FLO1 CDS</th>\n",
       "      <td>204388</td>\n",
       "      <td>204388</td>\n",
       "      <td>C -&gt; A</td>\n",
       "    </tr>\n",
       "    <tr>\n",
       "      <th>FLO1 CDS</th>\n",
       "      <td>203986</td>\n",
       "      <td>203986</td>\n",
       "      <td>A -&gt; T</td>\n",
       "    </tr>\n",
       "    <tr>\n",
       "      <th>FLO1 CDS</th>\n",
       "      <td>203977</td>\n",
       "      <td>203977</td>\n",
       "      <td>C -&gt; T</td>\n",
       "    </tr>\n",
       "    <tr>\n",
       "      <th>FLO1 CDS</th>\n",
       "      <td>203679</td>\n",
       "      <td>203680</td>\n",
       "      <td>TG -&gt; AA</td>\n",
       "    </tr>\n",
       "    <tr>\n",
       "      <th>FLO1 CDS</th>\n",
       "      <td>203677</td>\n",
       "      <td>203677</td>\n",
       "      <td>C -&gt; T</td>\n",
       "    </tr>\n",
       "    <tr>\n",
       "      <th>FLO1 CDS</th>\n",
       "      <td>204439</td>\n",
       "      <td>204441</td>\n",
       "      <td>GWG -&gt; ACT</td>\n",
       "    </tr>\n",
       "    <tr>\n",
       "      <th>FLO1 CDS</th>\n",
       "      <td>204434</td>\n",
       "      <td>204436</td>\n",
       "      <td>CGA -&gt; AAC</td>\n",
       "    </tr>\n",
       "    <tr>\n",
       "      <th>FLO1 CDS</th>\n",
       "      <td>204431</td>\n",
       "      <td>204433</td>\n",
       "      <td>ACM -&gt; GTC</td>\n",
       "    </tr>\n",
       "    <tr>\n",
       "      <th>FLO1 CDS</th>\n",
       "      <td>204428</td>\n",
       "      <td>204430</td>\n",
       "      <td>BHB -&gt; ACG</td>\n",
       "    </tr>\n",
       "    <tr>\n",
       "      <th>FLO1 CDS</th>\n",
       "      <td>204416</td>\n",
       "      <td>204418</td>\n",
       "      <td>MMY -&gt; TCA</td>\n",
       "    </tr>\n",
       "    <tr>\n",
       "      <th>FLO1 CDS</th>\n",
       "      <td>204413</td>\n",
       "      <td>204414</td>\n",
       "      <td>AM -&gt; CC</td>\n",
       "    </tr>\n",
       "    <tr>\n",
       "      <th>FLO1 CDS</th>\n",
       "      <td>204410</td>\n",
       "      <td>204412</td>\n",
       "      <td>CAY -&gt; ATA</td>\n",
       "    </tr>\n",
       "    <tr>\n",
       "      <th>FLO1 CDS</th>\n",
       "      <td>203713</td>\n",
       "      <td>203713</td>\n",
       "      <td>A -&gt; T</td>\n",
       "    </tr>\n",
       "    <tr>\n",
       "      <th>FLO1 CDS</th>\n",
       "      <td>203705</td>\n",
       "      <td>203705</td>\n",
       "      <td>G -&gt; A</td>\n",
       "    </tr>\n",
       "    <tr>\n",
       "      <th>FLO1 CDS</th>\n",
       "      <td>203696</td>\n",
       "      <td>203698</td>\n",
       "      <td>ATC -&gt; GTT</td>\n",
       "    </tr>\n",
       "    <tr>\n",
       "      <th>FLO1 CDS</th>\n",
       "      <td>204449</td>\n",
       "      <td>204450</td>\n",
       "      <td>CA -&gt; GT</td>\n",
       "    </tr>\n",
       "    <tr>\n",
       "      <th>FLO1 CDS</th>\n",
       "      <td>204425</td>\n",
       "      <td>204427</td>\n",
       "      <td>MSA -&gt; AAC</td>\n",
       "    </tr>\n",
       "    <tr>\n",
       "      <th>FLO1 CDS</th>\n",
       "      <td>204422</td>\n",
       "      <td>204424</td>\n",
       "      <td>TAR -&gt; ACC</td>\n",
       "    </tr>\n",
       "    <tr>\n",
       "      <th>FLO1 CDS</th>\n",
       "      <td>204420</td>\n",
       "      <td>204420</td>\n",
       "      <td>M -&gt; G</td>\n",
       "    </tr>\n",
       "    <tr>\n",
       "      <th>FLO1 CDS</th>\n",
       "      <td>204416</td>\n",
       "      <td>204417</td>\n",
       "      <td>MM -&gt; AC</td>\n",
       "    </tr>\n",
       "    <tr>\n",
       "      <th>FLO1 CDS</th>\n",
       "      <td>204414</td>\n",
       "      <td>204414</td>\n",
       "      <td>M -&gt; C</td>\n",
       "    </tr>\n",
       "    <tr>\n",
       "      <th>FLO1 CDS</th>\n",
       "      <td>203726</td>\n",
       "      <td>203726</td>\n",
       "      <td>A -&gt; G</td>\n",
       "    </tr>\n",
       "    <tr>\n",
       "      <th>FLO1 CDS</th>\n",
       "      <td>203721</td>\n",
       "      <td>203721</td>\n",
       "      <td>C -&gt; G</td>\n",
       "    </tr>\n",
       "    <tr>\n",
       "      <th>FLO1 CDS</th>\n",
       "      <td>203719</td>\n",
       "      <td>203719</td>\n",
       "      <td>A -&gt; T</td>\n",
       "    </tr>\n",
       "  </tbody>\n",
       "</table>\n",
       "</div>"
      ],
      "text/plain": [
       "          Minimum  Maximum            Change\n",
       "FLO1 CDS   204538   204538            A -> G\n",
       "FLO1 CDS   204529   204529            G -> A\n",
       "FLO1 CDS   204459   204460          WA -> TT\n",
       "FLO1 CDS   204456   204456            A -> T\n",
       "FLO1 CDS   204453   204454          CG -> TT\n",
       "FLO1 CDS   204449   204451        CAC -> GTT\n",
       "FLO1 CDS   204443   204448  TSSCCA -> GAAACC\n",
       "FLO1 CDS   204435   204435            G -> C\n",
       "FLO1 CDS   204431   204433        ACM -> CAA\n",
       "FLO1 CDS   204428   204430       BHB -> CGGT\n",
       "FLO1 CDS   204424   204426        RMS -> CCA\n",
       "FLO1 CDS   204419   204419            C -> A\n",
       "FLO1 CDS   204410   204411          CA -> AT\n",
       "FLO1 CDS   204407   204408          CH -> AT\n",
       "FLO1 CDS   204404   204404            C -> A\n",
       "FLO1 CDS   204402   204402            K -> G\n",
       "FLO1 CDS   204398   204400        CAY -> GCT\n",
       "FLO1 CDS   204396   204396            A -> C\n",
       "FLO1 CDS   204394   204394            C -> A\n",
       "FLO1 CDS   204388   204388            C -> A\n",
       "FLO1 CDS   203986   203986            A -> T\n",
       "FLO1 CDS   203977   203977            C -> T\n",
       "FLO1 CDS   203679   203680          TG -> AA\n",
       "FLO1 CDS   203677   203677            C -> T\n",
       "FLO1 CDS   204439   204441        GWG -> ACT\n",
       "FLO1 CDS   204434   204436        CGA -> AAC\n",
       "FLO1 CDS   204431   204433        ACM -> GTC\n",
       "FLO1 CDS   204428   204430        BHB -> ACG\n",
       "FLO1 CDS   204416   204418        MMY -> TCA\n",
       "FLO1 CDS   204413   204414          AM -> CC\n",
       "FLO1 CDS   204410   204412        CAY -> ATA\n",
       "FLO1 CDS   203713   203713            A -> T\n",
       "FLO1 CDS   203705   203705            G -> A\n",
       "FLO1 CDS   203696   203698        ATC -> GTT\n",
       "FLO1 CDS   204449   204450          CA -> GT\n",
       "FLO1 CDS   204425   204427        MSA -> AAC\n",
       "FLO1 CDS   204422   204424        TAR -> ACC\n",
       "FLO1 CDS   204420   204420            M -> G\n",
       "FLO1 CDS   204416   204417          MM -> AC\n",
       "FLO1 CDS   204414   204414            M -> C\n",
       "FLO1 CDS   203726   203726            A -> G\n",
       "FLO1 CDS   203721   203721            C -> G\n",
       "FLO1 CDS   203719   203719            A -> T"
      ]
     },
     "execution_count": 70,
     "metadata": {},
     "output_type": "execute_result"
    }
   ],
   "source": [
    "out_dict[\"FLO1 CDS\"]"
   ]
  }
 ],
 "metadata": {
  "kernelspec": {
   "display_name": "Python [default]",
   "language": "python",
   "name": "python2"
  },
  "language_info": {
   "codemirror_mode": {
    "name": "ipython",
    "version": 2
   },
   "file_extension": ".py",
   "mimetype": "text/x-python",
   "name": "python",
   "nbconvert_exporter": "python",
   "pygments_lexer": "ipython2",
   "version": "2.7.13"
  }
 },
 "nbformat": 4,
 "nbformat_minor": 2
}
